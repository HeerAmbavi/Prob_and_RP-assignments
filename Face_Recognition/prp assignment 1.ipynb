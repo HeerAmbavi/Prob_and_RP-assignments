{
 "cells": [
  {
   "cell_type": "markdown",
   "metadata": {},
   "source": [
    "# Face Recognition using PCA"
   ]
  },
  {
   "cell_type": "code",
   "execution_count": 89,
   "metadata": {},
   "outputs": [],
   "source": [
    "#Face recognition systemm using Principal Component Analysis. \n",
    "\n",
    "#Dataset used is available at https://www.cl.cam.ac.uk/research/dtg/attarchive/facedatabase.html\n",
    "#Dataset consists of 400 facial images, 10 each of 40 different subjects.\n",
    "#7 images of each subject are used for training and 3 for testing"
   ]
  },
  {
   "cell_type": "code",
   "execution_count": 90,
   "metadata": {},
   "outputs": [],
   "source": [
    "import cv2\n",
    "import os\n",
    "import numpy as np\n",
    "import matplotlib.pyplot as plt"
   ]
  },
  {
   "cell_type": "code",
   "execution_count": 118,
   "metadata": {},
   "outputs": [],
   "source": [
    "#converting an image into a data matrix\n",
    "def readImg(direc):\n",
    "    images = []\n",
    "    for i in range(1,41): #40 subjects\n",
    "          for j in range(1,8): #7 training images\n",
    "                #image name is s1/1.pgm for 1st image of subject 1.\n",
    "                im = cv2.imread(r\"{}/s{}/{}.pgm\".format(direc,i,j),0)\n",
    "                im=im.flatten()  #nxn to n2x1 matrix\n",
    "                images.append(im)\n",
    "    images=np.array(images)\n",
    "    images=images.astype(np.float64)\n",
    "    return images\n",
    "\n"
   ]
  },
  {
   "cell_type": "markdown",
   "metadata": {},
   "source": [
    "# Add image directory here"
   ]
  },
  {
   "cell_type": "code",
   "execution_count": 119,
   "metadata": {},
   "outputs": [],
   "source": [
    "# images = readImg(\"Directory\")\n",
    "images = readImg(\"img\")\n",
    "#print(images)"
   ]
  },
  {
   "cell_type": "code",
   "execution_count": 120,
   "metadata": {},
   "outputs": [],
   "source": [
    "#PCA\n",
    "#calculating mean face, i.e average of all faces\n",
    "mean_face=images.sum(axis=0)\n",
    "n_img=len(images)\n",
    "for i in range(len(mean_face)):\n",
    "    mean_face[i]/=n_img\n",
    "\n",
    "#subtracting the mean face from all faces\n",
    "avg_images=[]\n",
    "for img in images:\n",
    "    avg_images.append(img-mean_face)\n",
    "#print(avg_images)"
   ]
  },
  {
   "cell_type": "code",
   "execution_count": 121,
   "metadata": {},
   "outputs": [],
   "source": [
    "#covariance matrix\n",
    "A=np.array(avg_images).T\n",
    "C=np.matmul(A.T,A)\n",
    "#print(C)"
   ]
  },
  {
   "cell_type": "code",
   "execution_count": 122,
   "metadata": {},
   "outputs": [],
   "source": [
    "#Computing eigenfaces\n",
    "\n",
    "#compute the eigenvectors ui of A_trans.A\n",
    "e,u=np.linalg.eig(C)\n",
    "v=np.matmul(A,u)\n",
    "v_n=[]\n",
    "for i in range(len(v.T)) :\n",
    "    v_n.append(v.T[i]/np.linalg.norm(v.T[i]))\n",
    "\n",
    "# k=12, k highest eigenvalues,eigenvectors\n",
    "k=12\n",
    "eig=e[0:k]\n",
    "vec=v_n[0:k]\n",
    "wi=np.matmul(vec,np.array(avg_images).T)\n",
    "W=wi.T"
   ]
  },
  {
   "cell_type": "code",
   "execution_count": 129,
   "metadata": {},
   "outputs": [],
   "source": [
    "#Representing faces onto the basis of eigenfaces\n",
    "#wi=np.matmul(vec,np.array(avg_images).T)\n",
    "#W=wi.T    #weights of faces in training dataset\n",
    "\n",
    "#input i,j represents jth image of ith subject to be tested\n",
    "def face_recog(direc,i,j):\n",
    "    f= cv2.imread(r\"{}/s{}/{}.pgm\".format(direc,i,j),0)\n",
    "    f=f.flatten()\n",
    "    dist=[]\n",
    "    avg_face=f-mean_face\n",
    "    wi=np.matmul(vec,np.array(avg_face).T)\n",
    "    for i in range(len(W)):\n",
    "        dist.append(np.linalg.norm(wi-W[i])) #distances between training images and test image\n",
    "    d=dist.index(min(dist))   #image closest to test image\n",
    "    if (min(dist)<2800):      #threshold\n",
    "        print(\"The given image is of subject number\",int(d/7+1))  #subject number\n",
    "        return int(d/7+1)\n",
    "    else:\n",
    "        print(\"Unidentified face\")\n",
    "        return 0\n",
    "    "
   ]
  },
  {
   "cell_type": "markdown",
   "metadata": {},
   "source": [
    "# Input test data here:"
   ]
  },
  {
   "cell_type": "code",
   "execution_count": 130,
   "metadata": {},
   "outputs": [
    {
     "name": "stdout",
     "output_type": "stream",
     "text": [
      "The given image is of subject number 26\n"
     ]
    },
    {
     "data": {
      "text/plain": [
       "26"
      ]
     },
     "execution_count": 130,
     "metadata": {},
     "output_type": "execute_result"
    }
   ],
   "source": [
    "#face_recog(directory,subject number, image number)\n",
    "face_recog('img',26,10)"
   ]
  },
  {
   "cell_type": "code",
   "execution_count": 128,
   "metadata": {},
   "outputs": [
    {
     "name": "stdout",
     "output_type": "stream",
     "text": [
      "114\n"
     ]
    }
   ],
   "source": [
    "#accuracy\n",
    "\n",
    "count=0\n",
    "for i in range(1,41):\n",
    "    for j in range(8,11):\n",
    "        d=face_recog('img',i,j)\n",
    "        if(d==i):\n",
    "            count+=1\n",
    "print(count)       \n",
    "        "
   ]
  },
  {
   "cell_type": "code",
   "execution_count": null,
   "metadata": {},
   "outputs": [],
   "source": []
  }
 ],
 "metadata": {
  "kernelspec": {
   "display_name": "Python 3",
   "language": "python",
   "name": "python3"
  },
  "language_info": {
   "codemirror_mode": {
    "name": "ipython",
    "version": 3
   },
   "file_extension": ".py",
   "mimetype": "text/x-python",
   "name": "python",
   "nbconvert_exporter": "python",
   "pygments_lexer": "ipython3",
   "version": "3.6.6"
  }
 },
 "nbformat": 4,
 "nbformat_minor": 2
}
